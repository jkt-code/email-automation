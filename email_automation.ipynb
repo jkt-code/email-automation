{
 "cells": [
  {
   "cell_type": "code",
   "execution_count": 50,
   "id": "f68eb187-126a-45c0-a54b-497f7b47110c",
   "metadata": {},
   "outputs": [
    {
     "name": "stdin",
     "output_type": "stream",
     "text": [
      "Enter your email:  jebetkiptarus@gmail.com\n",
      "Enter your app-specific password:  ········\n"
     ]
    },
    {
     "name": "stdout",
     "output_type": "stream",
     "text": [
      "Login successful\n"
     ]
    }
   ],
   "source": [
    "import smtpli\n",
    "from getpass import getpass\n",
    "\n",
    "# Prompt for email credentials \n",
    "my_email = input('Enter your email: ') \n",
    "app_password = getpass('Enter your app-specific password: ')\n",
    "\n",
    "# SMTP Server and port no for GMAIL.com\n",
    "gmail_server= \"smtp.gmail.com\"\n",
    "gmail_port= 587\n",
    "\n",
    "try: # Starting connection \n",
    "    my_server = smtplib.SMTP(gmail_server, gmail_port)\n",
    "    my_server.ehlo() \n",
    "    my_server.starttls() \n",
    "    # Login with your email and password \n",
    "    my_server.login(my_email, password_key) \n",
    "    print(\"Login successful\") \n",
    "except Exception as e: \n",
    "    print(f\"Error: {e}\")"
   ]
  },
  {
   "cell_type": "code",
   "execution_count": 51,
   "id": "399b375b-34e1-41d9-a1e2-97b0205e5b7a",
   "metadata": {},
   "outputs": [],
   "source": [
    "from email.mime.multipart import MIMEMultipart\n",
    "message = MIMEMultipart(\"alternative\")"
   ]
  },
  {
   "cell_type": "code",
   "execution_count": 52,
   "id": "e1e2e289-0e28-4fd5-a7b9-b34a0fc59e01",
   "metadata": {},
   "outputs": [],
   "source": [
    "from email.mime.text import MIMEText\n",
    "text_content= '''Hello {to}, \n",
    "This is a test email with CC and BCC. \n",
    "Best regards, \n",
    "Your Name \n",
    "'''\n",
    "message.attach(MIMEText(text_content))"
   ]
  },
  {
   "cell_type": "code",
   "execution_count": 53,
   "id": "330a27e9-8558-451f-8557-51f4ebef9b85",
   "metadata": {},
   "outputs": [],
   "source": [
    "from email.mime.image import MIMEImage\n",
    "import os\n",
    "\n",
    "# define your location\n",
    "grade_card_path = 'C:/Users/User/Downloads/background_image.jpg'\n",
    "\n",
    "# Read the image from location\n",
    "grade_card_img = open(grade_card_path, 'rb').read()"
   ]
  },
  {
   "cell_type": "code",
   "execution_count": 54,
   "id": "0c6b53c8-59a9-4d53-8145-285ff1eff9ef",
   "metadata": {},
   "outputs": [],
   "source": [
    "from email.mime.application import MIMEApplication\n",
    "resume_file = 'C:/Users/User/Downloads/FaithKiptarusCV.docx'"
   ]
  },
  {
   "cell_type": "code",
   "execution_count": 55,
   "id": "82433eee-06b6-4af9-94d2-ce919e1873c5",
   "metadata": {},
   "outputs": [
    {
     "name": "stdout",
     "output_type": "stream",
     "text": [
      "Emails sent successfully\n"
     ]
    },
    {
     "data": {
      "text/plain": [
       "(221,\n",
       " b'2.0.0 closing connection 4fb4d7f45d1cf-5cf79c1de18sm526614a12.78 - gsmtp')"
      ]
     },
     "execution_count": 55,
     "metadata": {},
     "output_type": "execute_result"
    }
   ],
   "source": [
    "import csv\n",
    "with open(\"C:/Users/User/Downloads/input.csv\") as csv_file:\n",
    "        emails_ = csv.reader(csv_file)\n",
    "        next(emails_)  # Skip header row\n",
    "\n",
    "        for to, cc, bcc in emails_: \n",
    "            # Create a new email message for each recipient \n",
    "            message = MIMEMultipart() \n",
    "            message['From'] = my_email \n",
    "            message['To'] = to \n",
    "            message['Cc'] = cc \n",
    "            message['Bcc'] = bcc \n",
    "            message['Subject'] = 'Test Email with CC and BCC'\n",
    "            # Create email body \n",
    "            email_text = text_content.format(to=to, cc=cc, bcc=bcc) \n",
    "            message.attach(MIMEText(email_text, 'plain'))\n",
    "            \n",
    "            # Attach your image\n",
    "            message.attach(MIMEImage(grade_card_img, name=os.path.basename(grade_card_path)))\n",
    "            \n",
    "            # Read the file from location\n",
    "            with open(resume_file, 'rb') as f:\n",
    "               file = MIMEApplication(\n",
    "               f.read(),\n",
    "               name=os.path.basename(resume_file)\n",
    "               )\n",
    "               file['Content-Disposition'] = f'attachment; filename=\"{os.path.basename(resume_file)}\"' \n",
    "               message.attach(file)\n",
    "\n",
    "\n",
    "\n",
    "            # Create recipient list \n",
    "            recipients = [to] + cc.split(',') + bcc.split(',')\n",
    "\n",
    "            # Send the email \n",
    "            my_server.sendmail( \n",
    "                from_addr=my_email, \n",
    "                to_addrs=recipients, \n",
    "                msg=message.as_string() \n",
    "            )\n",
    "print('Emails sent successfully')\n",
    "\n",
    "my_server.quit()"
   ]
  },
  {
   "cell_type": "code",
   "execution_count": null,
   "id": "c8deaced-d119-4eca-95a0-00647f98f02b",
   "metadata": {},
   "outputs": [],
   "source": []
  }
 ],
 "metadata": {
  "kernelspec": {
   "display_name": "Python 3 (ipykernel)",
   "language": "python",
   "name": "python3"
  },
  "language_info": {
   "codemirror_mode": {
    "name": "ipython",
    "version": 3
   },
   "file_extension": ".py",
   "mimetype": "text/x-python",
   "name": "python",
   "nbconvert_exporter": "python",
   "pygments_lexer": "ipython3",
   "version": "3.11.7"
  }
 },
 "nbformat": 4,
 "nbformat_minor": 5
}
